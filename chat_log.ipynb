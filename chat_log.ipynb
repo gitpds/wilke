{
 "cells": [
  {
   "cell_type": "code",
   "execution_count": 1,
   "metadata": {},
   "outputs": [],
   "source": [
    "# Steps:\n",
    "    \n",
    "# Create a Google Cloud Storage (GCS) bucket: This is where you'll store your chat logs.\n",
    "\n",
    "# Enable the Google Cloud Storage API: Go to the GCP Console and navigate to the API Library. Search for \"Google Cloud Storage\" and enable the API.\n",
    "\n",
    "# Set up a service account: A service account is needed to allow your application to interact with GCS. To create a service account, go to the GCP Console, select IAM & Admin, and then select Service Accounts.\n",
    "\n",
    "# Grant permissions to the service account: You need to grant the service account permission to access your GCS bucket. Go to the GCS Console, select your bucket, and then select Permissions. Add the service account as a new member and assign it the \"Storage Object Creator\" and \"Storage Object Viewer\" roles.\n",
    "\n",
    "# Authenticate the service account: Before you can interact with GCS, you need to authenticate the service account. You can use the Google Cloud Client Library for Python to do this.\n",
    "\n",
    "# Store your chat logs in GCS: Once you've authenticated the service account, you can use the google.cloud.storage library to store your chat logs in GCS. In your Python code, you'll need to open a connection to the GCS bucket, write the chat log to a file, and then close the connection.\n",
    "\n",
    "# Retrieve the chat log: Before each session with your ChatGPT instance, retrieve the chat log from GCS. You can use the google.cloud.storage library to do this.\n",
    "\n",
    "# Append the new discussion: After each session, append the new discussion to the chat log and replace the old log in GCS.\n",
    "\n",
    "# Repeat the process: Every time you reconnect to your ChatGPT instance, repeat the process of retrieving the chat log, appending the new discussion, and replacing the old log."
   ]
  },
  {
   "cell_type": "code",
   "execution_count": 11,
   "metadata": {},
   "outputs": [],
   "source": [
    "# Import the necessary libraries\n",
    "import google.auth\n",
    "from google.cloud import storage\n",
    "\n",
    "# Authenticate the service account\n",
    "def add_logg(response):\n",
    "    credentials, project = google.auth.default()\n",
    "\n",
    "    client = storage.Client(project='gpt-pdsbot', credentials=credentials)\n",
    "    bucket = client.bucket(\"pds_ai_chat_logs\")\n",
    "    blob = bucket.get_blob(\"chat_log.txt\")\n",
    "    chat_log = blob.download_as_string().decode(\"utf-8\")\n",
    "    print(chat_log)\n",
    "    new_discussion = response # New discussion goes here\n",
    "    chat_log += new_discussion\n",
    "    blob.upload_from_string(chat_log.encode(\"utf-8\"))\n"
   ]
  },
  {
   "cell_type": "code",
   "execution_count": 12,
   "metadata": {},
   "outputs": [
    {
     "name": "stdout",
     "output_type": "stream",
     "text": [
      "FIRST ENTRY IN CHAT LOG...againagain2\n"
     ]
    }
   ],
   "source": [
    "add_log('Blue42')"
   ]
  },
  {
   "cell_type": "code",
   "execution_count": 3,
   "metadata": {},
   "outputs": [],
   "source": [
    "# # Connect to the Google Cloud Storage bucket\n",
    "# client = storage.Client(project='gpt-pdsbot', credentials=credentials)\n",
    "# bucket = client.bucket(\"pds_ai_chat_logs\")\n",
    "\n",
    "\n"
   ]
  },
  {
   "cell_type": "code",
   "execution_count": 4,
   "metadata": {},
   "outputs": [
    {
     "name": "stdout",
     "output_type": "stream",
     "text": [
      "FIRST ENTRY IN CHAT LOG...\n"
     ]
    }
   ],
   "source": [
    "# Retrieve the chat log from the bucket\n",
    "blob = bucket.get_blob(\"chat_log.txt\")\n",
    "chat_log = blob.download_as_string().decode(\"utf-8\")\n",
    "print(chat_log)\n",
    "\n"
   ]
  },
  {
   "cell_type": "code",
   "execution_count": 7,
   "metadata": {},
   "outputs": [],
   "source": [
    "# Append the new discussion to the chat log\n",
    "new_discussion = \"again2\" # New discussion goes here\n",
    "chat_log += new_discussion\n",
    "\n"
   ]
  },
  {
   "cell_type": "code",
   "execution_count": 8,
   "metadata": {},
   "outputs": [],
   "source": [
    "# Replace the old chat log in the bucket\n",
    "blob.upload_from_string(chat_log.encode(\"utf-8\"))"
   ]
  },
  {
   "cell_type": "code",
   "execution_count": 9,
   "metadata": {},
   "outputs": [
    {
     "name": "stdout",
     "output_type": "stream",
     "text": [
      "FIRST ENTRY IN CHAT LOG...againagain2\n"
     ]
    }
   ],
   "source": [
    "print(chat_log)"
   ]
  },
  {
   "cell_type": "code",
   "execution_count": null,
   "metadata": {},
   "outputs": [],
   "source": [
    "ipython kernel install --user --name=env_gpt"
   ]
  }
 ],
 "metadata": {
  "kernelspec": {
   "display_name": "cb_venv",
   "language": "python",
   "name": "cb_venv"
  },
  "language_info": {
   "codemirror_mode": {
    "name": "ipython",
    "version": 3
   },
   "file_extension": ".py",
   "mimetype": "text/x-python",
   "name": "python",
   "nbconvert_exporter": "python",
   "pygments_lexer": "ipython3",
   "version": "3.10.0"
  },
  "orig_nbformat": 4,
  "vscode": {
   "interpreter": {
    "hash": "6d4b2b35c6176083c8fc3c33b4e244ce47a6902b0e9df8a6f79ddaf9d2244bfc"
   }
  }
 },
 "nbformat": 4,
 "nbformat_minor": 2
}
