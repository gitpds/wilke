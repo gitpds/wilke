{
 "cells": [
  {
   "cell_type": "code",
   "execution_count": 1,
   "metadata": {},
   "outputs": [],
   "source": [
    "from dotenv import load_dotenv\n",
    "from random import choice\n",
    "from flask import Flask, request\n",
    "from twilio.twiml.messaging_response import MessagingResponse\n",
    "import openai\n",
    "import os\n",
    "import datetime   "
   ]
  },
  {
   "cell_type": "code",
   "execution_count": 2,
   "metadata": {},
   "outputs": [],
   "source": [
    "\n",
    "load_dotenv()\n",
    "open_ai_key = os.getenv(\"OPENAI_API_KEY\")\n",
    "completion = openai.Completion()\n",
    "\n",
    "start_sequence = \"\\nAI:\"\n",
    "restart_sequence = \"\\nHuman: \"\n",
    "session_prompt = \"The following is a conversation with an AI assistant. The assistant is helpful, creative, clever, and very friendly.\""
   ]
  },
  {
   "cell_type": "code",
   "execution_count": 3,
   "metadata": {},
   "outputs": [
    {
     "data": {
      "text/plain": [
       "'\\n# Problems to Fix\\n\\n\\n# * Define the model outside of the ask function\\n# * Change the ask function to ask_text\\n# * Replicate the ask function to ask_email\\n# * Make sure that all interactions are logged and saved to the log folder. \\n# * Make sure the logs are synced to my google drive account\\n# * Create a reminder comment right above the last action to remind me to switch to a GCP logging solution\\n# * Create some error tests to make sure that the functions are working correctly, and have the error tests log to the log folder\\n# * Make sure that those files have the word ERROR as a prexist in the file name\\n\\n\\n\\n\\n'"
      ]
     },
     "execution_count": 3,
     "metadata": {},
     "output_type": "execute_result"
    }
   ],
   "source": [
    "\"\"\"\n",
    "# Problems to Fix\n",
    "\n",
    "\n",
    "# * Define the model outside of the ask function\n",
    "# * Change the ask function to ask_text\n",
    "# * Replicate the ask function to ask_email\n",
    "# * Make sure that all interactions are logged and saved to the log folder. \n",
    "# * Make sure the logs are synced to my google drive account\n",
    "# * Create a reminder comment right above the last action to remind me to switch to a GCP logging solution\n",
    "# * Create some error tests to make sure that the functions are working correctly, and have the error tests log to the log folder\n",
    "# * Make sure that those files have the word ERROR as a prexist in the file name\n",
    "\n",
    "\n",
    "\n",
    "\n",
    "\"\"\""
   ]
  },
  {
   "cell_type": "code",
   "execution_count": 7,
   "metadata": {},
   "outputs": [],
   "source": [
    "app = Flask(__name__)\n",
    "openai.api_key = os.getenv(\"OPENAI_API_KEY\")\n",
    "app.config['SECRET_KEY'] = '323434'"
   ]
  },
  {
   "cell_type": "code",
   "execution_count": 8,
   "metadata": {},
   "outputs": [],
   "source": [
    "from datetime import datetime\n",
    "\n",
    "# Define the model outside of the ask function\n",
    "model = \"text-davinci-003\"\n",
    "\n",
    "def ask_text(question, chat_log=None):\n",
    "    prompt_text = f'{chat_log}{restart_sequence}{question}{start_sequence}'\n",
    "    \n",
    "    response = openai.Completion.create(\n",
    "    model=model,\n",
    "    prompt= prompt_text,\n",
    "    temperature=0.9,\n",
    "    max_tokens=150,\n",
    "    top_p=1,\n",
    "    frequency_penalty=0,\n",
    "    presence_penalty=0.6,\n",
    "    stop=[\" Human:\", \" AI:\"]\n",
    "    )\n",
    "    story = response['choices'][0]['text']\n",
    "    return str(story)\n",
    "\n",
    "# Replicate the ask function to ask_email\n",
    "\n",
    "chat_log = 'chat_log.txt'\n",
    "def ask_email(question, chat_log=None):\n",
    "    prompt_text = f'{chat_log}{restart_sequence}{question}{start_sequence}'\n",
    "    \n",
    "    response = openai.Completion.create(\n",
    "    model=model,\n",
    "    prompt= prompt_text,\n",
    "    temperature=0.9,\n",
    "    max_tokens=150,\n",
    "    top_p=1,\n",
    "    frequency_penalty=0,\n",
    "    presence_penalty=0.6,\n",
    "    stop=[\" Human:\", \" AI:\"]\n",
    "    )\n",
    "    story = response['choices'][0]['text']\n",
    "    return str(story)\n",
    "\n",
    "def append_interaction_to_chat_log(question, answer, chat_log=None):\n",
    "    if chat_log is None:\n",
    "        # Get the current date and time to use as the file name\n",
    "        current_time = datetime.now().strftime(\"%Y-%m-%d %H-%M-%S\")\n",
    "        # Create the logs folder if it doesn't already exist\n",
    "        os.makedirs('logs', exist_ok=True)\n",
    "        # Create the chat log file with the current time as the name\n",
    "        chat_log = open(f'logs/chat_log_{current_time}.txt', 'w')\n",
    "    chat_log.write(f'{question}{start_sequence}{answer}')\n",
    "    # Make sure that all interactions are logged and saved to the log folder. \n",
    "    # Make sure the logs are synced to my google drive account\n",
    "    # TODO: switch to a GCP logging solution\n",
    "    return chat_log\n",
    "\n",
    "# Create some error tests to make sure that the functions are working correctly,\n",
    "# and have the error tests log to the log folder\n",
    "try:\n",
    "    ask_text(\"Test question\")\n",
    "except Exception as e:\n",
    "    current_time = datetime.now().strftime(\"%Y-%m-%d %H-%M-%S\")\n",
    "    os.makedirs('logs', exist_ok=True)\n",
    "    with open(f'logs/ERROR_chat_log_{current_time}.txt', 'w') as log_file:\n",
    "        log_file.write(str(e))\n"
   ]
  },
  {
   "cell_type": "code",
   "execution_count": 10,
   "metadata": {},
   "outputs": [
    {
     "name": "stdout",
     "output_type": "stream",
     "text": [
      " The capital of Venezuela is Caracas.\n"
     ]
    }
   ],
   "source": [
    "print(ask_text(\"What is the capital of Venezuela?\"))"
   ]
  },
  {
   "cell_type": "code",
   "execution_count": 1,
   "metadata": {},
   "outputs": [
    {
     "ename": "ModuleNotFoundError",
     "evalue": "No module named 'google'",
     "output_type": "error",
     "traceback": [
      "\u001b[0;31m---------------------------------------------------------------------------\u001b[0m",
      "\u001b[0;31mModuleNotFoundError\u001b[0m                       Traceback (most recent call last)",
      "Cell \u001b[0;32mIn[1], line 4\u001b[0m\n\u001b[1;32m      2\u001b[0m \u001b[39mimport\u001b[39;00m \u001b[39mos\u001b[39;00m\n\u001b[1;32m      3\u001b[0m \u001b[39m# import google cloud storage\u001b[39;00m\n\u001b[0;32m----> 4\u001b[0m \u001b[39mfrom\u001b[39;00m \u001b[39mgoogle\u001b[39;00m\u001b[39m.\u001b[39;00m\u001b[39mcloud\u001b[39;00m \u001b[39mimport\u001b[39;00m storage\n\u001b[1;32m      6\u001b[0m \u001b[39mdef\u001b[39;00m \u001b[39mupload_and_retrieve_file_to_gcs\u001b[39m(file_path, bucket_name, file_name):\n\u001b[1;32m      7\u001b[0m     \u001b[39m# Upload the file to Google Cloud Storage\u001b[39;00m\n\u001b[1;32m      8\u001b[0m     client \u001b[39m=\u001b[39m storage\u001b[39m.\u001b[39mClient()\n",
      "\u001b[0;31mModuleNotFoundError\u001b[0m: No module named 'google'"
     ]
    }
   ],
   "source": [
    "import io\n",
    "import os\n",
    "# import google cloud storage\n",
    "from google.cloud import storage\n",
    "\n",
    "def upload_and_retrieve_file_to_gcs(file_path, bucket_name, file_name):\n",
    "    # Upload the file to Google Cloud Storage\n",
    "    client = storage.Client()\n",
    "    bucket = client.bucket(bucket_name)\n",
    "    blob = bucket.blob(file_name)\n",
    "    with open(file_path, \"rb\") as file:\n",
    "        blob.upload_from_file(file)\n",
    "        \n",
    "    # Retrieve the file from Google Cloud Storage\n",
    "    retrieved_blob = bucket.get_blob(file_name)\n",
    "    content = retrieved_blob.download_as_string().decode(\"utf-8\")\n",
    "    \n",
    "    return content\n"
   ]
  },
  {
   "cell_type": "code",
   "execution_count": 2,
   "metadata": {},
   "outputs": [],
   "source": [
    "# import bleach\n",
    "from flask import Flask, request, render_template\n"
   ]
  },
  {
   "cell_type": "code",
   "execution_count": 2,
   "metadata": {},
   "outputs": [
    {
     "name": "stdout",
     "output_type": "stream",
     "text": [
      "/bin/bash: /home/pds/artificial_intelligence/gpt_pdsbot/chatbot/bin/pip: /home/pds/AI/gpt_pdsbot/chatbot/bin/python3: bad interpreter: No such file or directory\n"
     ]
    }
   ],
   "source": [
    "!pip list"
   ]
  },
  {
   "cell_type": "code",
   "execution_count": 3,
   "metadata": {},
   "outputs": [
    {
     "ename": "ModuleNotFoundError",
     "evalue": "No module named 'google.oauth2'",
     "output_type": "error",
     "traceback": [
      "\u001b[0;31m---------------------------------------------------------------------------\u001b[0m",
      "\u001b[0;31mModuleNotFoundError\u001b[0m                       Traceback (most recent call last)",
      "Cell \u001b[0;32mIn [3], line 2\u001b[0m\n\u001b[1;32m      1\u001b[0m \u001b[39m# import google auth\u001b[39;00m\n\u001b[0;32m----> 2\u001b[0m \u001b[39mfrom\u001b[39;00m \u001b[39mgoogle\u001b[39;00m\u001b[39m.\u001b[39;00m\u001b[39moauth2\u001b[39;00m \u001b[39mimport\u001b[39;00m id_token\n",
      "\u001b[0;31mModuleNotFoundError\u001b[0m: No module named 'google.oauth2'"
     ]
    }
   ],
   "source": [
    "# import google auth\n",
    "from google.oauth2 import id_token"
   ]
  },
  {
   "cell_type": "code",
   "execution_count": 1,
   "metadata": {},
   "outputs": [
    {
     "ename": "ValueError",
     "evalue": "Environment variable GOOGLE_APPLICATION_CREDENTIALS not set",
     "output_type": "error",
     "traceback": [
      "\u001b[0;31m---------------------------------------------------------------------------\u001b[0m",
      "\u001b[0;31mValueError\u001b[0m                                Traceback (most recent call last)",
      "Cell \u001b[0;32mIn[1], line 11\u001b[0m\n\u001b[1;32m      8\u001b[0m     \u001b[39mwith\u001b[39;00m \u001b[39mopen\u001b[39m(credentials_file, \u001b[39m'\u001b[39m\u001b[39mr\u001b[39m\u001b[39m'\u001b[39m) \u001b[39mas\u001b[39;00m f:\n\u001b[1;32m      9\u001b[0m         \u001b[39mreturn\u001b[39;00m f\u001b[39m.\u001b[39mread()\n\u001b[0;32m---> 11\u001b[0m credentials \u001b[39m=\u001b[39m get_credentials_from_env()\n",
      "Cell \u001b[0;32mIn[1], line 7\u001b[0m, in \u001b[0;36mget_credentials_from_env\u001b[0;34m()\u001b[0m\n\u001b[1;32m      5\u001b[0m credentials_file \u001b[39m=\u001b[39m os\u001b[39m.\u001b[39menviron\u001b[39m.\u001b[39mget(\u001b[39m'\u001b[39m\u001b[39mGOOGLE_APPLICATION_CREDENTIALS\u001b[39m\u001b[39m'\u001b[39m)\n\u001b[1;32m      6\u001b[0m \u001b[39mif\u001b[39;00m credentials_file \u001b[39mis\u001b[39;00m \u001b[39mNone\u001b[39;00m:\n\u001b[0;32m----> 7\u001b[0m     \u001b[39mraise\u001b[39;00m \u001b[39mValueError\u001b[39;00m(\u001b[39m'\u001b[39m\u001b[39mEnvironment variable GOOGLE_APPLICATION_CREDENTIALS not set\u001b[39m\u001b[39m'\u001b[39m)\n\u001b[1;32m      8\u001b[0m \u001b[39mwith\u001b[39;00m \u001b[39mopen\u001b[39m(credentials_file, \u001b[39m'\u001b[39m\u001b[39mr\u001b[39m\u001b[39m'\u001b[39m) \u001b[39mas\u001b[39;00m f:\n\u001b[1;32m      9\u001b[0m     \u001b[39mreturn\u001b[39;00m f\u001b[39m.\u001b[39mread()\n",
      "\u001b[0;31mValueError\u001b[0m: Environment variable GOOGLE_APPLICATION_CREDENTIALS not set"
     ]
    }
   ],
   "source": [
    "# Fix the venvs\n",
    "# import os\n",
    "\n",
    "# def get_credentials_from_env():\n",
    "#     credentials_file = os.environ.get('GOOGLE_APPLICATION_CREDENTIALS')\n",
    "#     if credentials_file is None:\n",
    "#         raise ValueError('Environment variable GOOGLE_APPLICATION_CREDENTIALS not set')\n",
    "#     with open(credentials_file, 'r') as f:\n",
    "#         return f.read()\n",
    "\n",
    "# credentials = get_credentials_from_env()\n"
   ]
  },
  {
   "cell_type": "code",
   "execution_count": 2,
   "metadata": {},
   "outputs": [],
   "source": [
    "from dotenv import load_dotenv\n",
    "from random import choice\n",
    "from flask import Flask, request\n",
    "import os\n",
    "import openai\n",
    "import datetime\n",
    "import google.auth\n",
    "from google.cloud import storage"
   ]
  },
  {
   "cell_type": "code",
   "execution_count": 3,
   "metadata": {},
   "outputs": [],
   "source": [
    "datetime.datetime.now().strftime(\"%Y-%m-%d %H-%M-%S\")\n",
    "# credentials, project = google.auth.default()\n",
    "\n",
    "load_dotenv()\n",
    "open_ai_key = os.getenv(\"OPENAI_API_KEY\")\n",
    "completion = openai.Completion()\n",
    "\n",
    "start_sequence = \"\\nAI:\"\n",
    "restart_sequence = \"\\nHuman: \""
   ]
  },
  {
   "cell_type": "code",
   "execution_count": null,
   "metadata": {},
   "outputs": [],
   "source": [
    "def append_interaction_to_chat_log(question, answer, chat_log=None):\n",
    "#     if chat_log is None:\n",
    "#         # Get the current date and time to use as the file name\n",
    "#         current_time = datetime.now().strftime(\"%Y-%m-%d %H-%M-%S\")\n",
    "#         # Create the logs folder if it doesn't already exist\n",
    "#         os.makedirs('logs', exist_ok=True)\n",
    "#         # Create the chat log file with the current time as the name\n",
    "#         chat_log = open(f'logs/chat_log_{current_time}.txt', 'w')\n",
    "#     chat_log.write(f'{question}{start_sequence}{answer}')\n",
    "#     # Make sure that all interactions are logged and saved to the log folder. \n",
    "#     # Make sure the logs are synced to my google drive account\n",
    "#     # TODO: switch to a GCP logging solution\n",
    "#     return chat_log\n",
    "\n",
    "# # Create some error tests to make sure that the functions are working correctly,\n",
    "# # and have the error tests log to the log folder\n",
    "# try:\n",
    "#     ask_text(\"Test question\")\n",
    "# except Exception as e:\n",
    "#     current_time = datetime.now().strftime(\"%Y-%m-%d %H-%M-%S\")\n",
    "#     os.makedirs('logs', exist_ok=True)\n",
    "#     with open(f'logs/ERROR_chat_log_{current_time}.txt', 'w') as log_file:\n",
    "#         log_file.write(str(e))\n"
   ]
  },
  {
   "cell_type": "code",
   "execution_count": 5,
   "metadata": {},
   "outputs": [],
   "source": [
    "credentials = google.auth.default()\n",
    "def chat_log(log_file):\n",
    "\n",
    "    client = storage.Client(project='gpt-pdsbot', credentials=credentials)\n",
    "    bucket = client.bucket(\"pds_ai_chat_logs\")\n",
    "    blob = bucket.get_blob(\"chat_log.txt\")\n",
    "    chat_log = blob.download_as_string().decode(\"utf-8\")\n",
    "    new_discussion = \"...\" # New discussion goes here\n",
    "    chat_log += new_discussion\n",
    "    blob.upload_from_string(chat_log.encode(\"utf-8\"))\n",
    "\n",
    "def text(question, chat_log=None):\n",
    "    prompt_text = f'{chat_log}{restart_sequence}{question}{start_sequence}'\n",
    "    # Create a chat log from \n",
    "    \n",
    "    response = openai.Completion.create(\n",
    "    model=\"text-davinci-003\",\n",
    "    # model=\"davinci:ft-pds:reggie-1-2023-02-07-21-25-09\",\n",
    "    prompt= prompt_text,\n",
    "    temperature=0.9,\n",
    "    max_tokens=150,\n",
    "    top_p=1,\n",
    "    frequency_penalty=0,\n",
    "    presence_penalty=0.6,\n",
    "    stop=[\" Human:\", \" AI:\"]\n",
    "    )\n",
    "    story = response['choices'][0]['text']\n",
    "    return str(story)"
   ]
  },
  {
   "cell_type": "code",
   "execution_count": null,
   "metadata": {},
   "outputs": [],
   "source": [
    "# OLD CODE"
   ]
  },
  {
   "cell_type": "code",
   "execution_count": null,
   "metadata": {},
   "outputs": [],
   "source": [
    "# # Create a web app using Flask\n",
    "# app = Flask(__name__)\n",
    "\n",
    "\n",
    "\n",
    "# # Create a route for the home page\n",
    "# @app.route('/')\n",
    "# def home():\n",
    "#     name = 'John'\n",
    "#     return render_template('home.html', name=name)\n",
    "\n",
    "    \n",
    "\n",
    "# # Create a route for the chat page  \n",
    "# @app.route(\"/chat\")\n",
    "# def chat():\n",
    "#     return render_template(\"chat.html\")\n",
    "\n",
    "# # Create a route for the chatbot    \n",
    "# @app.route(\"/get\")\n",
    "# def get_bot_response():\n",
    "#     userText = request.args.get('msg')\n",
    "#     return str(ask_chat(userText))\n",
    "\n",
    "# # Run the web app\n",
    "# if __name__ == \"__main__\":\n",
    "#     app.run()\n",
    "    \n",
    "\n"
   ]
  },
  {
   "cell_type": "code",
   "execution_count": null,
   "metadata": {},
   "outputs": [],
   "source": [
    "# Old bot.py code\n",
    "\n"
   ]
  }
 ],
 "metadata": {
  "kernelspec": {
   "display_name": "Python 3",
   "language": "python",
   "name": "python3"
  },
  "language_info": {
   "codemirror_mode": {
    "name": "ipython",
    "version": 3
   },
   "file_extension": ".py",
   "mimetype": "text/x-python",
   "name": "python",
   "nbconvert_exporter": "python",
   "pygments_lexer": "ipython3",
   "version": "3.8.16"
  },
  "orig_nbformat": 4,
  "vscode": {
   "interpreter": {
    "hash": "98b37791e5ac8bd20b2923f1a384556930a71047e7eb993e50bc88d8464610dc"
   }
  }
 },
 "nbformat": 4,
 "nbformat_minor": 2
}
